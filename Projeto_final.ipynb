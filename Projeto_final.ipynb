{
 "cells": [
  {
   "cell_type": "code",
   "execution_count": 36,
   "metadata": {
    "ExecuteTime": {
     "end_time": "2021-04-24T02:37:06.461717Z",
     "start_time": "2021-04-24T02:37:06.429806Z"
    }
   },
   "outputs": [],
   "source": [
    "import os\n",
    "import numpy as np\n",
    "import pandas as pd\n",
    "from pykrige.ok3d import OrdinaryKriging3D\n",
    "from pykrige.uk3d import UniversalKriging3D\n",
    "from matplotlib import pyplot as plt\n",
    "import seaborn as sns\n",
    "import sklearn as skl\n",
    "from sklearn.metrics import mean_absolute_error, mean_squared_error, r2_score\n",
    "from sklearn import neighbors\n",
    "from math import sqrt"
   ]
  },
  {
   "cell_type": "code",
   "execution_count": null,
   "metadata": {},
   "outputs": [],
   "source": []
  },
  {
   "cell_type": "code",
   "execution_count": 37,
   "metadata": {
    "ExecuteTime": {
     "end_time": "2021-04-24T02:37:07.041967Z",
     "start_time": "2021-04-24T02:37:06.798799Z"
    }
   },
   "outputs": [],
   "source": [
    "df=pd.read_excel(\"C:\\\\Users\\\\fguer\\\\Downloads\\Lito_860_teste.xls\")"
   ]
  },
  {
   "cell_type": "code",
   "execution_count": 38,
   "metadata": {
    "ExecuteTime": {
     "end_time": "2021-04-24T02:37:07.323093Z",
     "start_time": "2021-04-24T02:37:07.294042Z"
    }
   },
   "outputs": [
    {
     "data": {
      "text/html": [
       "<div>\n",
       "<style scoped>\n",
       "    .dataframe tbody tr th:only-of-type {\n",
       "        vertical-align: middle;\n",
       "    }\n",
       "\n",
       "    .dataframe tbody tr th {\n",
       "        vertical-align: top;\n",
       "    }\n",
       "\n",
       "    .dataframe thead th {\n",
       "        text-align: right;\n",
       "    }\n",
       "</style>\n",
       "<table border=\"1\" class=\"dataframe\">\n",
       "  <thead>\n",
       "    <tr style=\"text-align: right;\">\n",
       "      <th></th>\n",
       "      <th>BHID</th>\n",
       "      <th>Z</th>\n",
       "      <th>X</th>\n",
       "      <th>Y</th>\n",
       "      <th>CaO</th>\n",
       "      <th>MgO</th>\n",
       "      <th>SiO2</th>\n",
       "      <th>Fe2O3</th>\n",
       "      <th>Al2O3</th>\n",
       "      <th>SO3</th>\n",
       "    </tr>\n",
       "  </thead>\n",
       "  <tbody>\n",
       "    <tr>\n",
       "      <th>0</th>\n",
       "      <td>FS01</td>\n",
       "      <td>1.75</td>\n",
       "      <td>726049</td>\n",
       "      <td>7271890</td>\n",
       "      <td>40.07</td>\n",
       "      <td>6.50</td>\n",
       "      <td>15.82</td>\n",
       "      <td>0.93</td>\n",
       "      <td>2.19</td>\n",
       "      <td>0.20</td>\n",
       "    </tr>\n",
       "    <tr>\n",
       "      <th>1</th>\n",
       "      <td>FS01</td>\n",
       "      <td>3.60</td>\n",
       "      <td>726049</td>\n",
       "      <td>7271890</td>\n",
       "      <td>37.17</td>\n",
       "      <td>6.74</td>\n",
       "      <td>20.25</td>\n",
       "      <td>1.00</td>\n",
       "      <td>2.28</td>\n",
       "      <td>0.20</td>\n",
       "    </tr>\n",
       "    <tr>\n",
       "      <th>2</th>\n",
       "      <td>FS01</td>\n",
       "      <td>5.05</td>\n",
       "      <td>726049</td>\n",
       "      <td>7271890</td>\n",
       "      <td>44.97</td>\n",
       "      <td>5.31</td>\n",
       "      <td>9.37</td>\n",
       "      <td>0.71</td>\n",
       "      <td>1.49</td>\n",
       "      <td>0.20</td>\n",
       "    </tr>\n",
       "    <tr>\n",
       "      <th>3</th>\n",
       "      <td>FS01</td>\n",
       "      <td>6.50</td>\n",
       "      <td>726049</td>\n",
       "      <td>7271890</td>\n",
       "      <td>45.05</td>\n",
       "      <td>4.79</td>\n",
       "      <td>8.50</td>\n",
       "      <td>0.66</td>\n",
       "      <td>2.00</td>\n",
       "      <td>0.20</td>\n",
       "    </tr>\n",
       "    <tr>\n",
       "      <th>4</th>\n",
       "      <td>FS01</td>\n",
       "      <td>8.05</td>\n",
       "      <td>726049</td>\n",
       "      <td>7271890</td>\n",
       "      <td>44.40</td>\n",
       "      <td>5.39</td>\n",
       "      <td>7.76</td>\n",
       "      <td>0.80</td>\n",
       "      <td>1.55</td>\n",
       "      <td>0.20</td>\n",
       "    </tr>\n",
       "    <tr>\n",
       "      <th>...</th>\n",
       "      <td>...</td>\n",
       "      <td>...</td>\n",
       "      <td>...</td>\n",
       "      <td>...</td>\n",
       "      <td>...</td>\n",
       "      <td>...</td>\n",
       "      <td>...</td>\n",
       "      <td>...</td>\n",
       "      <td>...</td>\n",
       "      <td>...</td>\n",
       "    </tr>\n",
       "    <tr>\n",
       "      <th>2967</th>\n",
       "      <td>FS27</td>\n",
       "      <td>383.30</td>\n",
       "      <td>725602</td>\n",
       "      <td>7270788</td>\n",
       "      <td>36.50</td>\n",
       "      <td>5.40</td>\n",
       "      <td>19.55</td>\n",
       "      <td>2.91</td>\n",
       "      <td>4.26</td>\n",
       "      <td>0.33</td>\n",
       "    </tr>\n",
       "    <tr>\n",
       "      <th>2968</th>\n",
       "      <td>FS27</td>\n",
       "      <td>385.30</td>\n",
       "      <td>725602</td>\n",
       "      <td>7270788</td>\n",
       "      <td>12.65</td>\n",
       "      <td>3.50</td>\n",
       "      <td>50.00</td>\n",
       "      <td>6.41</td>\n",
       "      <td>11.85</td>\n",
       "      <td>4.10</td>\n",
       "    </tr>\n",
       "    <tr>\n",
       "      <th>2969</th>\n",
       "      <td>FS27</td>\n",
       "      <td>387.30</td>\n",
       "      <td>725602</td>\n",
       "      <td>7270788</td>\n",
       "      <td>5.56</td>\n",
       "      <td>3.93</td>\n",
       "      <td>58.80</td>\n",
       "      <td>5.23</td>\n",
       "      <td>13.25</td>\n",
       "      <td>1.94</td>\n",
       "    </tr>\n",
       "    <tr>\n",
       "      <th>2970</th>\n",
       "      <td>FS27</td>\n",
       "      <td>389.30</td>\n",
       "      <td>725602</td>\n",
       "      <td>7270788</td>\n",
       "      <td>8.62</td>\n",
       "      <td>8.76</td>\n",
       "      <td>50.90</td>\n",
       "      <td>8.22</td>\n",
       "      <td>10.75</td>\n",
       "      <td>0.78</td>\n",
       "    </tr>\n",
       "    <tr>\n",
       "      <th>2971</th>\n",
       "      <td>FS27</td>\n",
       "      <td>392.10</td>\n",
       "      <td>725602</td>\n",
       "      <td>7270788</td>\n",
       "      <td>8.22</td>\n",
       "      <td>8.86</td>\n",
       "      <td>51.60</td>\n",
       "      <td>7.57</td>\n",
       "      <td>10.85</td>\n",
       "      <td>0.64</td>\n",
       "    </tr>\n",
       "  </tbody>\n",
       "</table>\n",
       "<p>2972 rows × 10 columns</p>\n",
       "</div>"
      ],
      "text/plain": [
       "      BHID       Z       X        Y    CaO   MgO   SiO2  Fe2O3  Al2O3   SO3\n",
       "0     FS01    1.75  726049  7271890  40.07  6.50  15.82   0.93   2.19  0.20\n",
       "1     FS01    3.60  726049  7271890  37.17  6.74  20.25   1.00   2.28  0.20\n",
       "2     FS01    5.05  726049  7271890  44.97  5.31   9.37   0.71   1.49  0.20\n",
       "3     FS01    6.50  726049  7271890  45.05  4.79   8.50   0.66   2.00  0.20\n",
       "4     FS01    8.05  726049  7271890  44.40  5.39   7.76   0.80   1.55  0.20\n",
       "...    ...     ...     ...      ...    ...   ...    ...    ...    ...   ...\n",
       "2967  FS27  383.30  725602  7270788  36.50  5.40  19.55   2.91   4.26  0.33\n",
       "2968  FS27  385.30  725602  7270788  12.65  3.50  50.00   6.41  11.85  4.10\n",
       "2969  FS27  387.30  725602  7270788   5.56  3.93  58.80   5.23  13.25  1.94\n",
       "2970  FS27  389.30  725602  7270788   8.62  8.76  50.90   8.22  10.75  0.78\n",
       "2971  FS27  392.10  725602  7270788   8.22  8.86  51.60   7.57  10.85  0.64\n",
       "\n",
       "[2972 rows x 10 columns]"
      ]
     },
     "execution_count": 38,
     "metadata": {},
     "output_type": "execute_result"
    }
   ],
   "source": [
    "df"
   ]
  },
  {
   "cell_type": "code",
   "execution_count": 39,
   "metadata": {
    "ExecuteTime": {
     "end_time": "2021-04-24T02:37:07.618734Z",
     "start_time": "2021-04-24T02:37:07.604800Z"
    }
   },
   "outputs": [],
   "source": [
    "from sklearn.neighbors import KNeighborsRegressor"
   ]
  },
  {
   "cell_type": "code",
   "execution_count": 40,
   "metadata": {
    "ExecuteTime": {
     "end_time": "2021-04-24T02:37:07.930900Z",
     "start_time": "2021-04-24T02:37:07.915940Z"
    }
   },
   "outputs": [],
   "source": [
    "df.rename(columns={\"CaO\":\"A\",'MgO':'B', 'SiO2':'C', 'Fe2O3':'D', 'Al2O3':'E', 'SO3':'F'}, inplace = True)"
   ]
  },
  {
   "cell_type": "code",
   "execution_count": 41,
   "metadata": {
    "ExecuteTime": {
     "end_time": "2021-04-24T02:37:08.229727Z",
     "start_time": "2021-04-24T02:37:08.198771Z"
    },
    "scrolled": true
   },
   "outputs": [
    {
     "data": {
      "text/html": [
       "<div>\n",
       "<style scoped>\n",
       "    .dataframe tbody tr th:only-of-type {\n",
       "        vertical-align: middle;\n",
       "    }\n",
       "\n",
       "    .dataframe tbody tr th {\n",
       "        vertical-align: top;\n",
       "    }\n",
       "\n",
       "    .dataframe thead th {\n",
       "        text-align: right;\n",
       "    }\n",
       "</style>\n",
       "<table border=\"1\" class=\"dataframe\">\n",
       "  <thead>\n",
       "    <tr style=\"text-align: right;\">\n",
       "      <th></th>\n",
       "      <th>BHID</th>\n",
       "      <th>Z</th>\n",
       "      <th>X</th>\n",
       "      <th>Y</th>\n",
       "      <th>A</th>\n",
       "      <th>B</th>\n",
       "      <th>C</th>\n",
       "      <th>D</th>\n",
       "      <th>E</th>\n",
       "      <th>F</th>\n",
       "    </tr>\n",
       "  </thead>\n",
       "  <tbody>\n",
       "    <tr>\n",
       "      <th>0</th>\n",
       "      <td>FS01</td>\n",
       "      <td>1.75</td>\n",
       "      <td>726049</td>\n",
       "      <td>7271890</td>\n",
       "      <td>40.07</td>\n",
       "      <td>6.50</td>\n",
       "      <td>15.82</td>\n",
       "      <td>0.93</td>\n",
       "      <td>2.19</td>\n",
       "      <td>0.20</td>\n",
       "    </tr>\n",
       "    <tr>\n",
       "      <th>1</th>\n",
       "      <td>FS01</td>\n",
       "      <td>3.60</td>\n",
       "      <td>726049</td>\n",
       "      <td>7271890</td>\n",
       "      <td>37.17</td>\n",
       "      <td>6.74</td>\n",
       "      <td>20.25</td>\n",
       "      <td>1.00</td>\n",
       "      <td>2.28</td>\n",
       "      <td>0.20</td>\n",
       "    </tr>\n",
       "    <tr>\n",
       "      <th>2</th>\n",
       "      <td>FS01</td>\n",
       "      <td>5.05</td>\n",
       "      <td>726049</td>\n",
       "      <td>7271890</td>\n",
       "      <td>44.97</td>\n",
       "      <td>5.31</td>\n",
       "      <td>9.37</td>\n",
       "      <td>0.71</td>\n",
       "      <td>1.49</td>\n",
       "      <td>0.20</td>\n",
       "    </tr>\n",
       "    <tr>\n",
       "      <th>3</th>\n",
       "      <td>FS01</td>\n",
       "      <td>6.50</td>\n",
       "      <td>726049</td>\n",
       "      <td>7271890</td>\n",
       "      <td>45.05</td>\n",
       "      <td>4.79</td>\n",
       "      <td>8.50</td>\n",
       "      <td>0.66</td>\n",
       "      <td>2.00</td>\n",
       "      <td>0.20</td>\n",
       "    </tr>\n",
       "    <tr>\n",
       "      <th>4</th>\n",
       "      <td>FS01</td>\n",
       "      <td>8.05</td>\n",
       "      <td>726049</td>\n",
       "      <td>7271890</td>\n",
       "      <td>44.40</td>\n",
       "      <td>5.39</td>\n",
       "      <td>7.76</td>\n",
       "      <td>0.80</td>\n",
       "      <td>1.55</td>\n",
       "      <td>0.20</td>\n",
       "    </tr>\n",
       "    <tr>\n",
       "      <th>...</th>\n",
       "      <td>...</td>\n",
       "      <td>...</td>\n",
       "      <td>...</td>\n",
       "      <td>...</td>\n",
       "      <td>...</td>\n",
       "      <td>...</td>\n",
       "      <td>...</td>\n",
       "      <td>...</td>\n",
       "      <td>...</td>\n",
       "      <td>...</td>\n",
       "    </tr>\n",
       "    <tr>\n",
       "      <th>2967</th>\n",
       "      <td>FS27</td>\n",
       "      <td>383.30</td>\n",
       "      <td>725602</td>\n",
       "      <td>7270788</td>\n",
       "      <td>36.50</td>\n",
       "      <td>5.40</td>\n",
       "      <td>19.55</td>\n",
       "      <td>2.91</td>\n",
       "      <td>4.26</td>\n",
       "      <td>0.33</td>\n",
       "    </tr>\n",
       "    <tr>\n",
       "      <th>2968</th>\n",
       "      <td>FS27</td>\n",
       "      <td>385.30</td>\n",
       "      <td>725602</td>\n",
       "      <td>7270788</td>\n",
       "      <td>12.65</td>\n",
       "      <td>3.50</td>\n",
       "      <td>50.00</td>\n",
       "      <td>6.41</td>\n",
       "      <td>11.85</td>\n",
       "      <td>4.10</td>\n",
       "    </tr>\n",
       "    <tr>\n",
       "      <th>2969</th>\n",
       "      <td>FS27</td>\n",
       "      <td>387.30</td>\n",
       "      <td>725602</td>\n",
       "      <td>7270788</td>\n",
       "      <td>5.56</td>\n",
       "      <td>3.93</td>\n",
       "      <td>58.80</td>\n",
       "      <td>5.23</td>\n",
       "      <td>13.25</td>\n",
       "      <td>1.94</td>\n",
       "    </tr>\n",
       "    <tr>\n",
       "      <th>2970</th>\n",
       "      <td>FS27</td>\n",
       "      <td>389.30</td>\n",
       "      <td>725602</td>\n",
       "      <td>7270788</td>\n",
       "      <td>8.62</td>\n",
       "      <td>8.76</td>\n",
       "      <td>50.90</td>\n",
       "      <td>8.22</td>\n",
       "      <td>10.75</td>\n",
       "      <td>0.78</td>\n",
       "    </tr>\n",
       "    <tr>\n",
       "      <th>2971</th>\n",
       "      <td>FS27</td>\n",
       "      <td>392.10</td>\n",
       "      <td>725602</td>\n",
       "      <td>7270788</td>\n",
       "      <td>8.22</td>\n",
       "      <td>8.86</td>\n",
       "      <td>51.60</td>\n",
       "      <td>7.57</td>\n",
       "      <td>10.85</td>\n",
       "      <td>0.64</td>\n",
       "    </tr>\n",
       "  </tbody>\n",
       "</table>\n",
       "<p>2972 rows × 10 columns</p>\n",
       "</div>"
      ],
      "text/plain": [
       "      BHID       Z       X        Y      A     B      C     D      E     F\n",
       "0     FS01    1.75  726049  7271890  40.07  6.50  15.82  0.93   2.19  0.20\n",
       "1     FS01    3.60  726049  7271890  37.17  6.74  20.25  1.00   2.28  0.20\n",
       "2     FS01    5.05  726049  7271890  44.97  5.31   9.37  0.71   1.49  0.20\n",
       "3     FS01    6.50  726049  7271890  45.05  4.79   8.50  0.66   2.00  0.20\n",
       "4     FS01    8.05  726049  7271890  44.40  5.39   7.76  0.80   1.55  0.20\n",
       "...    ...     ...     ...      ...    ...   ...    ...   ...    ...   ...\n",
       "2967  FS27  383.30  725602  7270788  36.50  5.40  19.55  2.91   4.26  0.33\n",
       "2968  FS27  385.30  725602  7270788  12.65  3.50  50.00  6.41  11.85  4.10\n",
       "2969  FS27  387.30  725602  7270788   5.56  3.93  58.80  5.23  13.25  1.94\n",
       "2970  FS27  389.30  725602  7270788   8.62  8.76  50.90  8.22  10.75  0.78\n",
       "2971  FS27  392.10  725602  7270788   8.22  8.86  51.60  7.57  10.85  0.64\n",
       "\n",
       "[2972 rows x 10 columns]"
      ]
     },
     "execution_count": 41,
     "metadata": {},
     "output_type": "execute_result"
    }
   ],
   "source": [
    "df"
   ]
  },
  {
   "cell_type": "code",
   "execution_count": 69,
   "metadata": {
    "ExecuteTime": {
     "end_time": "2021-04-24T03:10:53.509527Z",
     "start_time": "2021-04-24T03:10:53.454714Z"
    },
    "scrolled": true
   },
   "outputs": [
    {
     "data": {
      "text/html": [
       "<div>\n",
       "<style scoped>\n",
       "    .dataframe tbody tr th:only-of-type {\n",
       "        vertical-align: middle;\n",
       "    }\n",
       "\n",
       "    .dataframe tbody tr th {\n",
       "        vertical-align: top;\n",
       "    }\n",
       "\n",
       "    .dataframe thead th {\n",
       "        text-align: right;\n",
       "    }\n",
       "</style>\n",
       "<table border=\"1\" class=\"dataframe\">\n",
       "  <thead>\n",
       "    <tr style=\"text-align: right;\">\n",
       "      <th></th>\n",
       "      <th>Z</th>\n",
       "      <th>X</th>\n",
       "      <th>Y</th>\n",
       "      <th>A</th>\n",
       "      <th>B</th>\n",
       "      <th>C</th>\n",
       "      <th>D</th>\n",
       "      <th>E</th>\n",
       "      <th>F</th>\n",
       "    </tr>\n",
       "  </thead>\n",
       "  <tbody>\n",
       "    <tr>\n",
       "      <th>count</th>\n",
       "      <td>2972.000000</td>\n",
       "      <td>2972.000000</td>\n",
       "      <td>2.972000e+03</td>\n",
       "      <td>2972.000000</td>\n",
       "      <td>2972.000000</td>\n",
       "      <td>2972.000000</td>\n",
       "      <td>2972.000000</td>\n",
       "      <td>2972.000000</td>\n",
       "      <td>2972.000000</td>\n",
       "    </tr>\n",
       "    <tr>\n",
       "      <th>mean</th>\n",
       "      <td>196.111306</td>\n",
       "      <td>725922.979812</td>\n",
       "      <td>7.024850e+06</td>\n",
       "      <td>42.126538</td>\n",
       "      <td>5.298974</td>\n",
       "      <td>12.992537</td>\n",
       "      <td>1.299044</td>\n",
       "      <td>2.531706</td>\n",
       "      <td>0.304209</td>\n",
       "    </tr>\n",
       "    <tr>\n",
       "      <th>std</th>\n",
       "      <td>125.770172</td>\n",
       "      <td>176.949653</td>\n",
       "      <td>1.246462e+06</td>\n",
       "      <td>11.344508</td>\n",
       "      <td>4.648139</td>\n",
       "      <td>12.673192</td>\n",
       "      <td>1.593727</td>\n",
       "      <td>2.668561</td>\n",
       "      <td>0.351546</td>\n",
       "    </tr>\n",
       "    <tr>\n",
       "      <th>min</th>\n",
       "      <td>0.000000</td>\n",
       "      <td>725597.000000</td>\n",
       "      <td>7.271770e+05</td>\n",
       "      <td>0.050000</td>\n",
       "      <td>0.140000</td>\n",
       "      <td>0.650000</td>\n",
       "      <td>0.020000</td>\n",
       "      <td>0.090000</td>\n",
       "      <td>0.010000</td>\n",
       "    </tr>\n",
       "    <tr>\n",
       "      <th>25%</th>\n",
       "      <td>92.000000</td>\n",
       "      <td>725778.000000</td>\n",
       "      <td>7.271152e+06</td>\n",
       "      <td>39.800000</td>\n",
       "      <td>2.220000</td>\n",
       "      <td>4.630000</td>\n",
       "      <td>0.460000</td>\n",
       "      <td>0.930000</td>\n",
       "      <td>0.110000</td>\n",
       "    </tr>\n",
       "    <tr>\n",
       "      <th>50%</th>\n",
       "      <td>182.125000</td>\n",
       "      <td>725964.000000</td>\n",
       "      <td>7.271497e+06</td>\n",
       "      <td>45.900000</td>\n",
       "      <td>4.050000</td>\n",
       "      <td>8.055000</td>\n",
       "      <td>0.800000</td>\n",
       "      <td>1.720000</td>\n",
       "      <td>0.240000</td>\n",
       "    </tr>\n",
       "    <tr>\n",
       "      <th>75%</th>\n",
       "      <td>284.000000</td>\n",
       "      <td>726049.000000</td>\n",
       "      <td>7.271879e+06</td>\n",
       "      <td>50.400000</td>\n",
       "      <td>5.962500</td>\n",
       "      <td>15.362500</td>\n",
       "      <td>1.530000</td>\n",
       "      <td>3.042500</td>\n",
       "      <td>0.390000</td>\n",
       "    </tr>\n",
       "    <tr>\n",
       "      <th>max</th>\n",
       "      <td>568.700000</td>\n",
       "      <td>726225.000000</td>\n",
       "      <td>7.271988e+06</td>\n",
       "      <td>55.900000</td>\n",
       "      <td>19.850000</td>\n",
       "      <td>97.800000</td>\n",
       "      <td>12.220000</td>\n",
       "      <td>18.000000</td>\n",
       "      <td>5.590000</td>\n",
       "    </tr>\n",
       "  </tbody>\n",
       "</table>\n",
       "</div>"
      ],
      "text/plain": [
       "                 Z              X             Y            A            B  \\\n",
       "count  2972.000000    2972.000000  2.972000e+03  2972.000000  2972.000000   \n",
       "mean    196.111306  725922.979812  7.024850e+06    42.126538     5.298974   \n",
       "std     125.770172     176.949653  1.246462e+06    11.344508     4.648139   \n",
       "min       0.000000  725597.000000  7.271770e+05     0.050000     0.140000   \n",
       "25%      92.000000  725778.000000  7.271152e+06    39.800000     2.220000   \n",
       "50%     182.125000  725964.000000  7.271497e+06    45.900000     4.050000   \n",
       "75%     284.000000  726049.000000  7.271879e+06    50.400000     5.962500   \n",
       "max     568.700000  726225.000000  7.271988e+06    55.900000    19.850000   \n",
       "\n",
       "                 C            D            E            F  \n",
       "count  2972.000000  2972.000000  2972.000000  2972.000000  \n",
       "mean     12.992537     1.299044     2.531706     0.304209  \n",
       "std      12.673192     1.593727     2.668561     0.351546  \n",
       "min       0.650000     0.020000     0.090000     0.010000  \n",
       "25%       4.630000     0.460000     0.930000     0.110000  \n",
       "50%       8.055000     0.800000     1.720000     0.240000  \n",
       "75%      15.362500     1.530000     3.042500     0.390000  \n",
       "max      97.800000    12.220000    18.000000     5.590000  "
      ]
     },
     "execution_count": 69,
     "metadata": {},
     "output_type": "execute_result"
    }
   ],
   "source": [
    "df.describe()"
   ]
  },
  {
   "cell_type": "code",
   "execution_count": 70,
   "metadata": {
    "ExecuteTime": {
     "end_time": "2021-04-24T04:27:54.101336Z",
     "start_time": "2021-04-24T04:27:53.993310Z"
    }
   },
   "outputs": [
    {
     "name": "stdout",
     "output_type": "stream",
     "text": [
      "<class 'pandas.core.frame.DataFrame'>\n",
      "RangeIndex: 2972 entries, 0 to 2971\n",
      "Data columns (total 10 columns):\n",
      " #   Column  Non-Null Count  Dtype  \n",
      "---  ------  --------------  -----  \n",
      " 0   BHID    2972 non-null   object \n",
      " 1   Z       2972 non-null   float64\n",
      " 2   X       2972 non-null   int64  \n",
      " 3   Y       2972 non-null   int64  \n",
      " 4   A       2972 non-null   float64\n",
      " 5   B       2972 non-null   float64\n",
      " 6   C       2972 non-null   float64\n",
      " 7   D       2972 non-null   float64\n",
      " 8   E       2972 non-null   float64\n",
      " 9   F       2972 non-null   float64\n",
      "dtypes: float64(7), int64(2), object(1)\n",
      "memory usage: 232.3+ KB\n"
     ]
    }
   ],
   "source": [
    "df.info()"
   ]
  },
  {
   "cell_type": "code",
   "execution_count": 42,
   "metadata": {
    "ExecuteTime": {
     "end_time": "2021-04-24T02:37:08.517229Z",
     "start_time": "2021-04-24T02:37:08.496232Z"
    }
   },
   "outputs": [],
   "source": [
    "dfd=df.drop('BHID',1)"
   ]
  },
  {
   "cell_type": "code",
   "execution_count": 43,
   "metadata": {
    "ExecuteTime": {
     "end_time": "2021-04-24T02:37:08.813789Z",
     "start_time": "2021-04-24T02:37:08.798829Z"
    }
   },
   "outputs": [],
   "source": [
    "X = dfd[['X','Y','Z','B','C','D','E','F']]\n",
    "y= dfd['A']"
   ]
  },
  {
   "cell_type": "code",
   "execution_count": 106,
   "metadata": {
    "ExecuteTime": {
     "end_time": "2021-04-24T14:09:55.926197Z",
     "start_time": "2021-04-24T14:09:55.916223Z"
    }
   },
   "outputs": [],
   "source": [
    "from sklearn.model_selection import train_test_split\n",
    "X_train, X_test, y_train, y_test = train_test_split(X,y,test_size = 0.05, random_state = 42)"
   ]
  },
  {
   "cell_type": "code",
   "execution_count": 87,
   "metadata": {
    "ExecuteTime": {
     "end_time": "2021-04-24T13:37:19.926679Z",
     "start_time": "2021-04-24T13:37:19.919697Z"
    }
   },
   "outputs": [
    {
     "name": "stdout",
     "output_type": "stream",
     "text": [
      "(2823, 8)\n",
      "(149, 8)\n",
      "(2823,)\n",
      "(149,)\n"
     ]
    }
   ],
   "source": [
    "print(X_train.shape)\n",
    "print(X_test.shape)\n",
    "print(y_train.shape)\n",
    "print(y_test.shape)"
   ]
  },
  {
   "cell_type": "code",
   "execution_count": 46,
   "metadata": {
    "ExecuteTime": {
     "end_time": "2021-04-24T02:37:09.881392Z",
     "start_time": "2021-04-24T02:37:09.838512Z"
    }
   },
   "outputs": [
    {
     "data": {
      "text/plain": [
       "StandardScaler()"
      ]
     },
     "execution_count": 46,
     "metadata": {},
     "output_type": "execute_result"
    }
   ],
   "source": [
    "from sklearn.preprocessing import StandardScaler  \n",
    "scaler = StandardScaler()  \n",
    "scaler.fit(X_train)"
   ]
  },
  {
   "cell_type": "code",
   "execution_count": 47,
   "metadata": {
    "ExecuteTime": {
     "end_time": "2021-04-24T02:37:10.163959Z",
     "start_time": "2021-04-24T02:37:10.149997Z"
    }
   },
   "outputs": [],
   "source": [
    "dfstd = scaler.transform(X_train)"
   ]
  },
  {
   "cell_type": "code",
   "execution_count": 48,
   "metadata": {
    "ExecuteTime": {
     "end_time": "2021-04-24T02:37:10.463448Z",
     "start_time": "2021-04-24T02:37:10.449510Z"
    }
   },
   "outputs": [
    {
     "data": {
      "text/plain": [
       "(2377, 8)"
      ]
     },
     "execution_count": 48,
     "metadata": {},
     "output_type": "execute_result"
    }
   ],
   "source": [
    "dfstd.shape"
   ]
  },
  {
   "cell_type": "code",
   "execution_count": 49,
   "metadata": {
    "ExecuteTime": {
     "end_time": "2021-04-24T02:37:10.730006Z",
     "start_time": "2021-04-24T02:37:10.716044Z"
    }
   },
   "outputs": [],
   "source": [
    "from sklearn.neighbors import KNeighborsRegressor"
   ]
  },
  {
   "cell_type": "code",
   "execution_count": 50,
   "metadata": {
    "ExecuteTime": {
     "end_time": "2021-04-24T02:37:10.996741Z",
     "start_time": "2021-04-24T02:37:10.986794Z"
    }
   },
   "outputs": [],
   "source": [
    "error_rmse = sqrt(mean_squared_error(y_test,pred))\n",
    "error_abs = mean_absolute_error(y_test,pred)\n",
    "error_r2 = r2_score(y_test,pred)"
   ]
  },
  {
   "cell_type": "code",
   "execution_count": 51,
   "metadata": {
    "ExecuteTime": {
     "end_time": "2021-04-24T02:37:11.561833Z",
     "start_time": "2021-04-24T02:37:11.248584Z"
    }
   },
   "outputs": [
    {
     "name": "stdout",
     "output_type": "stream",
     "text": [
      "RMSE value for k=  1 is: 3.817991398540302\n",
      "ABS value for k=  1 is: 2.364218487394958\n",
      "R2 value for k=  1 is: 0.8846048693773841\n",
      "RMSE value for k=  2 is: 4.412983517917528\n",
      "ABS value for k=  2 is: 2.520403361344538\n",
      "R2 value for k=  2 is: 0.8458362724667857\n",
      "RMSE value for k=  3 is: 4.681157080820167\n",
      "ABS value for k=  3 is: 2.5839943977591036\n",
      "R2 value for k=  3 is: 0.8265301428299922\n",
      "RMSE value for k=  4 is: 4.943742993918269\n",
      "ABS value for k=  4 is: 2.7149159663865547\n",
      "R2 value for k=  4 is: 0.8065229920540753\n",
      "RMSE value for k=  5 is: 5.1523507487995674\n",
      "ABS value for k=  5 is: 2.8295731092436975\n",
      "R2 value for k=  5 is: 0.7898504655984182\n",
      "RMSE value for k=  6 is: 5.3471415686497465\n",
      "ABS value for k=  6 is: 2.935532212885154\n",
      "R2 value for k=  6 is: 0.773660184936602\n",
      "RMSE value for k=  7 is: 5.54595061601653\n",
      "ABS value for k=  7 is: 3.045188475390156\n",
      "R2 value for k=  7 is: 0.7565164708547675\n",
      "RMSE value for k=  8 is: 5.7459692204220705\n",
      "ABS value for k=  8 is: 3.1730987394957983\n",
      "R2 value for k=  8 is: 0.7386369543338052\n",
      "RMSE value for k=  9 is: 5.9364218425728845\n",
      "ABS value for k=  9 is: 3.2687619047619045\n",
      "R2 value for k=  9 is: 0.7210238345701567\n",
      "RMSE value for k=  10 is: 6.077919564588976\n",
      "ABS value for k=  10 is: 3.367376470588235\n",
      "R2 value for k=  10 is: 0.7075662533695379\n",
      "RMSE value for k=  11 is: 6.219534925866722\n",
      "ABS value for k=  11 is: 3.470198624904507\n",
      "R2 value for k=  11 is: 0.6937800976258233\n",
      "RMSE value for k=  12 is: 6.355203724803282\n",
      "ABS value for k=  12 is: 3.561910364145658\n",
      "R2 value for k=  12 is: 0.6802750369530908\n",
      "RMSE value for k=  13 is: 6.443642843788319\n",
      "ABS value for k=  13 is: 3.610506787330316\n",
      "R2 value for k=  13 is: 0.6713145248210513\n",
      "RMSE value for k=  14 is: 6.565664763695294\n",
      "ABS value for k=  14 is: 3.6944021608643456\n",
      "R2 value for k=  14 is: 0.6587481610205086\n",
      "RMSE value for k=  15 is: 6.671555344592923\n",
      "ABS value for k=  15 is: 3.7774498599439776\n",
      "R2 value for k=  15 is: 0.6476520265048358\n",
      "RMSE value for k=  16 is: 6.7828274548718275\n",
      "ABS value for k=  16 is: 3.8673088235294117\n",
      "R2 value for k=  16 is: 0.6358006799939173\n",
      "RMSE value for k=  17 is: 6.878605790569211\n",
      "ABS value for k=  17 is: 3.949136925358379\n",
      "R2 value for k=  17 is: 0.6254425551213666\n",
      "RMSE value for k=  18 is: 6.95107674088422\n",
      "ABS value for k=  18 is: 4.011992530345472\n",
      "R2 value for k=  18 is: 0.6175085265731418\n",
      "RMSE value for k=  19 is: 7.007885486943582\n",
      "ABS value for k=  19 is: 4.069663865546218\n",
      "R2 value for k=  19 is: 0.6112310380545009\n",
      "RMSE value for k=  20 is: 7.075699029041571\n",
      "ABS value for k=  20 is: 4.122043697478992\n",
      "R2 value for k=  20 is: 0.60367059536653\n"
     ]
    }
   ],
   "source": [
    "rmse_val_MINK = []\n",
    "abs_val_MINK = []\n",
    "r2_val_MINK = []\n",
    "for K in range(20):\n",
    "    K = K+1\n",
    "    model = neighbors.KNeighborsRegressor(n_neighbors = K)\n",
    "    \n",
    "    model.fit(X_train, y_train)\n",
    "    pred=model.predict(X_test)\n",
    "    error_rmse = sqrt(mean_squared_error(y_test,pred))\n",
    "    rmse_val_MINK.append(error_rmse)\n",
    "    error_abs = mean_absolute_error(y_test,pred)\n",
    "    abs_val_MINK.append(error_abs) \n",
    "    error_r2 = r2_score(y_test,pred)\n",
    "    r2_val_MINK.append(error_r2)\n",
    "    \n",
    "    print('RMSE value for k= ' , K , 'is:', error_rmse)\n",
    "    print('ABS value for k= ' , K , 'is:', error_abs)\n",
    "    print('R2 value for k= ' , K , 'is:', error_r2)"
   ]
  },
  {
   "cell_type": "code",
   "execution_count": 52,
   "metadata": {
    "ExecuteTime": {
     "end_time": "2021-04-24T02:37:12.082855Z",
     "start_time": "2021-04-24T02:37:11.845787Z"
    },
    "scrolled": true
   },
   "outputs": [
    {
     "data": {
      "text/plain": [
       "<matplotlib.axes._subplots.AxesSubplot at 0x21f3f8cf160>"
      ]
     },
     "execution_count": 52,
     "metadata": {},
     "output_type": "execute_result"
    },
    {
     "data": {
      "image/png": "[encoded data removed]",
      "text/plain": [
       "<Figure size 432x288 with 1 Axes>"
      ]
     },
     "metadata": {
      "needs_background": "light"
     },
     "output_type": "display_data"
    }
   ],
   "source": [
    "curve = pd.DataFrame(rmse_val_MINK)  \n",
    "curve.plot()"
   ]
  },
  {
   "cell_type": "code",
   "execution_count": 53,
   "metadata": {
    "ExecuteTime": {
     "end_time": "2021-04-24T02:37:12.500670Z",
     "start_time": "2021-04-24T02:37:12.325609Z"
    }
   },
   "outputs": [
    {
     "data": {
      "text/plain": [
       "<matplotlib.axes._subplots.AxesSubplot at 0x21f0a5b4b50>"
      ]
     },
     "execution_count": 53,
     "metadata": {},
     "output_type": "execute_result"
    },
    {
     "data": {
      "image/png": "[encoded data removed]",
      "text/plain": [
       "<Figure size 432x288 with 1 Axes>"
      ]
     },
     "metadata": {
      "needs_background": "light"
     },
     "output_type": "display_data"
    }
   ],
   "source": [
    "curve = pd.DataFrame(r2_val_MINK)  \n",
    "curve.plot()"
   ]
  },
  {
   "cell_type": "code",
   "execution_count": 96,
   "metadata": {
    "ExecuteTime": {
     "end_time": "2021-04-24T13:39:15.406594Z",
     "start_time": "2021-04-24T13:39:14.985349Z"
    },
    "scrolled": true
   },
   "outputs": [
    {
     "name": "stdout",
     "output_type": "stream",
     "text": [
      "RMSE value for k=  1 is: 2.929832324496477\n",
      "ABS value for k=  1 is: 1.9250335570469796\n",
      "R2 value for k=  1 is: 0.9313761101994888\n",
      "RMSE value for k=  2 is: 3.3999032383586067\n",
      "ABS value for k=  2 is: 2.06739932885906\n",
      "R2 value for k=  2 is: 0.9075891609747525\n",
      "RMSE value for k=  3 is: 3.711063698362439\n",
      "ABS value for k=  3 is: 2.0862304250559287\n",
      "R2 value for k=  3 is: 0.8899001780277546\n",
      "RMSE value for k=  4 is: 4.343845531516728\n",
      "ABS value for k=  4 is: 2.327214765100671\n",
      "R2 value for k=  4 is: 0.8491523511717525\n",
      "RMSE value for k=  5 is: 4.832456705660231\n",
      "ABS value for k=  5 is: 2.5180335570469796\n",
      "R2 value for k=  5 is: 0.8133079851752173\n",
      "RMSE value for k=  6 is: 5.103642114761817\n",
      "ABS value for k=  6 is: 2.67177293064877\n",
      "R2 value for k=  6 is: 0.7917666796627881\n",
      "RMSE value for k=  7 is: 5.314503088369685\n",
      "ABS value for k=  7 is: 2.7645158197507196\n",
      "R2 value for k=  7 is: 0.7742045810010595\n",
      "RMSE value for k=  8 is: 5.588430646337679\n",
      "ABS value for k=  8 is: 2.9061409395973152\n",
      "R2 value for k=  8 is: 0.750328178171981\n",
      "RMSE value for k=  9 is: 5.817163569290451\n",
      "ABS value for k=  9 is: 2.997132736763609\n",
      "R2 value for k=  9 is: 0.7294719199498064\n",
      "RMSE value for k=  10 is: 5.998807112962\n",
      "ABS value for k=  10 is: 3.063818791946309\n",
      "R2 value for k=  10 is: 0.7123134258494479\n",
      "RMSE value for k=  11 is: 6.117231673146561\n",
      "ABS value for k=  11 is: 3.1133282489322767\n",
      "R2 value for k=  11 is: 0.7008426647597514\n",
      "RMSE value for k=  12 is: 6.2805895083302214\n",
      "ABS value for k=  12 is: 3.1630592841163314\n",
      "R2 value for k=  12 is: 0.6846516101855826\n",
      "RMSE value for k=  13 is: 6.425928123294007\n",
      "ABS value for k=  13 is: 3.2564429530201346\n",
      "R2 value for k=  13 is: 0.6698878371664279\n",
      "RMSE value for k=  14 is: 6.51663413997695\n",
      "ABS value for k=  14 is: 3.300402684563759\n",
      "R2 value for k=  14 is: 0.6605025804273907\n",
      "RMSE value for k=  15 is: 6.623439313982612\n",
      "ABS value for k=  15 is: 3.3574093959731544\n",
      "R2 value for k=  15 is: 0.649282915579713\n",
      "RMSE value for k=  16 is: 6.737310472977412\n",
      "ABS value for k=  16 is: 3.4272609060402686\n",
      "R2 value for k=  16 is: 0.6371200930231302\n",
      "RMSE value for k=  17 is: 6.826299087773356\n",
      "ABS value for k=  17 is: 3.4825917883932096\n",
      "R2 value for k=  17 is: 0.6274707104501871\n",
      "RMSE value for k=  18 is: 6.9263648161536535\n",
      "ABS value for k=  18 is: 3.543021998508576\n",
      "R2 value for k=  18 is: 0.6164689549375604\n",
      "RMSE value for k=  19 is: 6.966582464710631\n",
      "ABS value for k=  19 is: 3.5730483927940657\n",
      "R2 value for k=  19 is: 0.612002110155601\n",
      "RMSE value for k=  20 is: 7.026513818837101\n",
      "ABS value for k=  20 is: 3.5965268456375834\n",
      "R2 value for k=  20 is: 0.6052977442011414\n"
     ]
    }
   ],
   "source": [
    "rmse_val_MANH = []\n",
    "abs_val_MANH = []\n",
    "r2_val_MANH = []\n",
    "for K in range(20):\n",
    "    K = K+1\n",
    "    model2 = neighbors.KNeighborsRegressor(n_neighbors = K, metric = 'manhattan')\n",
    "    \n",
    "    model2.fit(X_train, y_train)\n",
    "    pred=model2.predict(X_test)\n",
    "    error_rmse = sqrt(mean_squared_error(y_test,pred))\n",
    "    rmse_val_MANH.append(error_rmse)\n",
    "    error_abs = mean_absolute_error(y_test,pred)\n",
    "    abs_val_MANH.append(error_abs) \n",
    "    error_r2 = r2_score(y_test,pred)\n",
    "    r2_val_MANH.append(error_r2)\n",
    "    \n",
    "    print('RMSE value for k= ' , K , 'is:', error_rmse)\n",
    "    print('ABS value for k= ' , K , 'is:', error_abs)\n",
    "    print('R2 value for k= ' , K , 'is:', error_r2)\n",
    "\n"
   ]
  },
  {
   "cell_type": "code",
   "execution_count": 55,
   "metadata": {
    "ExecuteTime": {
     "end_time": "2021-04-24T02:37:14.021628Z",
     "start_time": "2021-04-24T02:37:13.292909Z"
    },
    "scrolled": true
   },
   "outputs": [
    {
     "data": {
      "text/plain": [
       "<matplotlib.axes._subplots.AxesSubplot at 0x21f0a5222e0>"
      ]
     },
     "execution_count": 55,
     "metadata": {},
     "output_type": "execute_result"
    },
    {
     "data": {
      "image/png": "[encoded data removed]",
      "text/plain": [
       "<Figure size 432x288 with 1 Axes>"
      ]
     },
     "metadata": {
      "needs_background": "light"
     },
     "output_type": "display_data"
    }
   ],
   "source": [
    "curve_rmse_MANH = pd.DataFrame(rmse_val_MANH)  \n",
    "curve_rmse_MANH.plot()"
   ]
  },
  {
   "cell_type": "code",
   "execution_count": 56,
   "metadata": {
    "ExecuteTime": {
     "end_time": "2021-04-24T02:37:14.435968Z",
     "start_time": "2021-04-24T02:37:14.287857Z"
    }
   },
   "outputs": [
    {
     "data": {
      "text/plain": [
       "<matplotlib.axes._subplots.AxesSubplot at 0x21f0a5b4130>"
      ]
     },
     "execution_count": 56,
     "metadata": {},
     "output_type": "execute_result"
    },
    {
     "data": {
      "image/png": "[encoded data removed]",
      "text/plain": [
       "<Figure size 432x288 with 1 Axes>"
      ]
     },
     "metadata": {
      "needs_background": "light"
     },
     "output_type": "display_data"
    }
   ],
   "source": [
    "curve_r2_MANH = pd.DataFrame(r2_val_MANH)  \n",
    "curve_r2_MANH.plot()"
   ]
  },
  {
   "cell_type": "code",
   "execution_count": 107,
   "metadata": {
    "ExecuteTime": {
     "end_time": "2021-04-24T14:10:03.466846Z",
     "start_time": "2021-04-24T14:10:03.125286Z"
    }
   },
   "outputs": [],
   "source": [
    "rmse_val_MANH = []\n",
    "abs_val_MANH = []\n",
    "r2_val_MANH = []\n",
    "for K in range(40):\n",
    "    K = K+1\n",
    "    model2 = neighbors.KNeighborsRegressor(n_neighbors = K, metric = 'manhattan')\n",
    "    \n",
    "    model2.fit(X_train, y_train)\n",
    "    pred=model2.predict(X_test)\n",
    "    error_rmse = sqrt(mean_squared_error(y_test,pred))\n",
    "    rmse_val_MANH.append(error_rmse)\n",
    "    error_abs = mean_absolute_error(y_test,pred)\n",
    "    abs_val_MANH.append(error_abs) \n",
    "    error_r2 = r2_score(y_test,pred)\n",
    "    r2_val_MANH.append(error_r2)\n",
    "   "
   ]
  },
  {
   "cell_type": "code",
   "execution_count": 61,
   "metadata": {
    "ExecuteTime": {
     "end_time": "2021-04-24T02:37:17.012553Z",
     "start_time": "2021-04-24T02:37:16.856229Z"
    }
   },
   "outputs": [
    {
     "data": {
      "text/plain": [
       "<matplotlib.axes._subplots.AxesSubplot at 0x21f0a5c14f0>"
      ]
     },
     "execution_count": 61,
     "metadata": {},
     "output_type": "execute_result"
    },
    {
     "data": {
      "image/png": "[encoded data removed]",
      "text/plain": [
       "<Figure size 432x288 with 1 Axes>"
      ]
     },
     "metadata": {
      "needs_background": "light"
     },
     "output_type": "display_data"
    }
   ],
   "source": [
    "curve_r2_MANH = pd.DataFrame(r2_val_MANH)  \n",
    "curve_r2_MANH.plot()"
   ]
  },
  {
   "cell_type": "code",
   "execution_count": null,
   "metadata": {},
   "outputs": [],
   "source": [
    "dfstd = scaler.transform(X_train)"
   ]
  },
  {
   "cell_type": "code",
   "execution_count": 108,
   "metadata": {
    "ExecuteTime": {
     "end_time": "2021-04-24T14:10:07.316918Z",
     "start_time": "2021-04-24T14:10:06.293516Z"
    }
   },
   "outputs": [],
   "source": [
    "rmse_val_MANH = []\n",
    "abs_val_MANH = []\n",
    "r2_val_MANH1 = []\n",
    "for K in range(40):\n",
    "    K = K+1\n",
    "    model2 = neighbors.KNeighborsRegressor(n_neighbors = K, metric = 'manhattan')\n",
    "    \n",
    "    model2.fit(X_train, y_train)\n",
    "    pred=model2.predict(X_train)\n",
    "    error_rmse = sqrt(mean_squared_error(y_train,pred))\n",
    "    rmse_val_MANH.append(error_rmse)\n",
    "    error_abs = mean_absolute_error(y_train,pred)\n",
    "    abs_val_MANH.append(error_abs) \n",
    "    error_r2 = r2_score(y_train,pred)\n",
    "    r2_val_MANH1.append(error_r2)"
   ]
  },
  {
   "cell_type": "code",
   "execution_count": 65,
   "metadata": {
    "ExecuteTime": {
     "end_time": "2021-04-24T02:39:50.345303Z",
     "start_time": "2021-04-24T02:39:50.157831Z"
    }
   },
   "outputs": [
    {
     "data": {
      "text/plain": [
       "<matplotlib.axes._subplots.AxesSubplot at 0x21f0a3b4490>"
      ]
     },
     "execution_count": 65,
     "metadata": {},
     "output_type": "execute_result"
    },
    {
     "data": {
      "image/png": "[encoded data removed]",
      "text/plain": [
       "<Figure size 432x288 with 1 Axes>"
      ]
     },
     "metadata": {
      "needs_background": "light"
     },
     "output_type": "display_data"
    }
   ],
   "source": [
    "curve_rmse_MANH = pd.DataFrame(rmse_val_MANH)  \n",
    "curve_rmse_MANH.plot()"
   ]
  },
  {
   "cell_type": "code",
   "execution_count": 110,
   "metadata": {
    "ExecuteTime": {
     "end_time": "2021-04-24T14:10:16.140796Z",
     "start_time": "2021-04-24T14:10:16.005917Z"
    }
   },
   "outputs": [
    {
     "data": {
      "text/plain": [
       "[<matplotlib.lines.Line2D at 0x21f0bbbb250>]"
      ]
     },
     "execution_count": 110,
     "metadata": {},
     "output_type": "execute_result"
    },
    {
     "data": {
      "image/png": "[encoded data removed]",
      "text/plain": [
       "<Figure size 432x288 with 1 Axes>"
      ]
     },
     "metadata": {
      "needs_background": "light"
     },
     "output_type": "display_data"
    }
   ],
   "source": [
    "curve_r2_MANH = pd.DataFrame(r2_val_MANH)  \n",
    "plt.plot(curve_r2_MANH)\n",
    "curve_r2_MANH1 = pd.DataFrame(r2_val_MANH1)  \n",
    "plt.plot(curve_r2_MANH1)"
   ]
  },
  {
   "cell_type": "code",
   "execution_count": 111,
   "metadata": {
    "ExecuteTime": {
     "end_time": "2021-04-24T14:10:28.733301Z",
     "start_time": "2021-04-24T14:10:28.710364Z"
    }
   },
   "outputs": [
    {
     "data": {
      "text/html": [
       "<div>\n",
       "<style scoped>\n",
       "    .dataframe tbody tr th:only-of-type {\n",
       "        vertical-align: middle;\n",
       "    }\n",
       "\n",
       "    .dataframe tbody tr th {\n",
       "        vertical-align: top;\n",
       "    }\n",
       "\n",
       "    .dataframe thead th {\n",
       "        text-align: right;\n",
       "    }\n",
       "</style>\n",
       "<table border=\"1\" class=\"dataframe\">\n",
       "  <thead>\n",
       "    <tr style=\"text-align: right;\">\n",
       "      <th></th>\n",
       "      <th>0</th>\n",
       "    </tr>\n",
       "  </thead>\n",
       "  <tbody>\n",
       "    <tr>\n",
       "      <th>0</th>\n",
       "      <td>0.925015</td>\n",
       "    </tr>\n",
       "    <tr>\n",
       "      <th>1</th>\n",
       "      <td>0.900592</td>\n",
       "    </tr>\n",
       "    <tr>\n",
       "      <th>2</th>\n",
       "      <td>0.882896</td>\n",
       "    </tr>\n",
       "    <tr>\n",
       "      <th>3</th>\n",
       "      <td>0.850497</td>\n",
       "    </tr>\n",
       "    <tr>\n",
       "      <th>4</th>\n",
       "      <td>0.831389</td>\n",
       "    </tr>\n",
       "    <tr>\n",
       "      <th>5</th>\n",
       "      <td>0.813838</td>\n",
       "    </tr>\n",
       "    <tr>\n",
       "      <th>6</th>\n",
       "      <td>0.799977</td>\n",
       "    </tr>\n",
       "    <tr>\n",
       "      <th>7</th>\n",
       "      <td>0.788216</td>\n",
       "    </tr>\n",
       "    <tr>\n",
       "      <th>8</th>\n",
       "      <td>0.777700</td>\n",
       "    </tr>\n",
       "    <tr>\n",
       "      <th>9</th>\n",
       "      <td>0.770030</td>\n",
       "    </tr>\n",
       "    <tr>\n",
       "      <th>10</th>\n",
       "      <td>0.756069</td>\n",
       "    </tr>\n",
       "    <tr>\n",
       "      <th>11</th>\n",
       "      <td>0.748248</td>\n",
       "    </tr>\n",
       "    <tr>\n",
       "      <th>12</th>\n",
       "      <td>0.747855</td>\n",
       "    </tr>\n",
       "    <tr>\n",
       "      <th>13</th>\n",
       "      <td>0.739315</td>\n",
       "    </tr>\n",
       "    <tr>\n",
       "      <th>14</th>\n",
       "      <td>0.727888</td>\n",
       "    </tr>\n",
       "    <tr>\n",
       "      <th>15</th>\n",
       "      <td>0.718482</td>\n",
       "    </tr>\n",
       "    <tr>\n",
       "      <th>16</th>\n",
       "      <td>0.709223</td>\n",
       "    </tr>\n",
       "    <tr>\n",
       "      <th>17</th>\n",
       "      <td>0.699632</td>\n",
       "    </tr>\n",
       "    <tr>\n",
       "      <th>18</th>\n",
       "      <td>0.695714</td>\n",
       "    </tr>\n",
       "    <tr>\n",
       "      <th>19</th>\n",
       "      <td>0.689340</td>\n",
       "    </tr>\n",
       "    <tr>\n",
       "      <th>20</th>\n",
       "      <td>0.679602</td>\n",
       "    </tr>\n",
       "    <tr>\n",
       "      <th>21</th>\n",
       "      <td>0.676000</td>\n",
       "    </tr>\n",
       "    <tr>\n",
       "      <th>22</th>\n",
       "      <td>0.667498</td>\n",
       "    </tr>\n",
       "    <tr>\n",
       "      <th>23</th>\n",
       "      <td>0.660383</td>\n",
       "    </tr>\n",
       "    <tr>\n",
       "      <th>24</th>\n",
       "      <td>0.654203</td>\n",
       "    </tr>\n",
       "    <tr>\n",
       "      <th>25</th>\n",
       "      <td>0.646699</td>\n",
       "    </tr>\n",
       "    <tr>\n",
       "      <th>26</th>\n",
       "      <td>0.641297</td>\n",
       "    </tr>\n",
       "    <tr>\n",
       "      <th>27</th>\n",
       "      <td>0.635244</td>\n",
       "    </tr>\n",
       "    <tr>\n",
       "      <th>28</th>\n",
       "      <td>0.632365</td>\n",
       "    </tr>\n",
       "    <tr>\n",
       "      <th>29</th>\n",
       "      <td>0.626275</td>\n",
       "    </tr>\n",
       "    <tr>\n",
       "      <th>30</th>\n",
       "      <td>0.622070</td>\n",
       "    </tr>\n",
       "    <tr>\n",
       "      <th>31</th>\n",
       "      <td>0.614845</td>\n",
       "    </tr>\n",
       "    <tr>\n",
       "      <th>32</th>\n",
       "      <td>0.610409</td>\n",
       "    </tr>\n",
       "    <tr>\n",
       "      <th>33</th>\n",
       "      <td>0.604126</td>\n",
       "    </tr>\n",
       "    <tr>\n",
       "      <th>34</th>\n",
       "      <td>0.599456</td>\n",
       "    </tr>\n",
       "    <tr>\n",
       "      <th>35</th>\n",
       "      <td>0.593225</td>\n",
       "    </tr>\n",
       "    <tr>\n",
       "      <th>36</th>\n",
       "      <td>0.587884</td>\n",
       "    </tr>\n",
       "    <tr>\n",
       "      <th>37</th>\n",
       "      <td>0.581085</td>\n",
       "    </tr>\n",
       "    <tr>\n",
       "      <th>38</th>\n",
       "      <td>0.577289</td>\n",
       "    </tr>\n",
       "    <tr>\n",
       "      <th>39</th>\n",
       "      <td>0.572198</td>\n",
       "    </tr>\n",
       "  </tbody>\n",
       "</table>\n",
       "</div>"
      ],
      "text/plain": [
       "           0\n",
       "0   0.925015\n",
       "1   0.900592\n",
       "2   0.882896\n",
       "3   0.850497\n",
       "4   0.831389\n",
       "5   0.813838\n",
       "6   0.799977\n",
       "7   0.788216\n",
       "8   0.777700\n",
       "9   0.770030\n",
       "10  0.756069\n",
       "11  0.748248\n",
       "12  0.747855\n",
       "13  0.739315\n",
       "14  0.727888\n",
       "15  0.718482\n",
       "16  0.709223\n",
       "17  0.699632\n",
       "18  0.695714\n",
       "19  0.689340\n",
       "20  0.679602\n",
       "21  0.676000\n",
       "22  0.667498\n",
       "23  0.660383\n",
       "24  0.654203\n",
       "25  0.646699\n",
       "26  0.641297\n",
       "27  0.635244\n",
       "28  0.632365\n",
       "29  0.626275\n",
       "30  0.622070\n",
       "31  0.614845\n",
       "32  0.610409\n",
       "33  0.604126\n",
       "34  0.599456\n",
       "35  0.593225\n",
       "36  0.587884\n",
       "37  0.581085\n",
       "38  0.577289\n",
       "39  0.572198"
      ]
     },
     "execution_count": 111,
     "metadata": {},
     "output_type": "execute_result"
    }
   ],
   "source": [
    "curve_r2_MANH"
   ]
  },
  {
   "cell_type": "code",
   "execution_count": null,
   "metadata": {},
   "outputs": [],
   "source": []
  }
 ],
 "metadata": {
  "kernelspec": {
   "display_name": "Python 3",
   "language": "python",
   "name": "python3"
  },
  "language_info": {
   "codemirror_mode": {
    "name": "ipython",
    "version": 3
   },
   "file_extension": ".py",
   "mimetype": "text/x-python",
   "name": "python",
   "nbconvert_exporter": "python",
   "pygments_lexer": "ipython3",
   "version": "3.8.3"
  },
  "toc": {
   "base_numbering": 1,
   "nav_menu": {},
   "number_sections": true,
   "sideBar": true,
   "skip_h1_title": false,
   "title_cell": "Table of Contents",
   "title_sidebar": "Contents",
   "toc_cell": false,
   "toc_position": {},
   "toc_section_display": true,
   "toc_window_display": false
  },
  "varInspector": {
   "cols": {
    "lenName": 16,
    "lenType": 16,
    "lenVar": 40
   },
   "kernels_config": {
    "python": {
     "delete_cmd_postfix": "",
     "delete_cmd_prefix": "del ",
     "library": "var_list.py",
     "varRefreshCmd": "print(var_dic_list())"
    },
    "r": {
     "delete_cmd_postfix": ") ",
     "delete_cmd_prefix": "rm(",
     "library": "var_list.r",
     "varRefreshCmd": "cat(var_dic_list()) "
    }
   },
   "types_to_exclude": [
    "module",
    "function",
    "builtin_function_or_method",
    "instance",
    "_Feature"
   ],
   "window_display": false
  }
 },
 "nbformat": 4,
 "nbformat_minor": 5
}
